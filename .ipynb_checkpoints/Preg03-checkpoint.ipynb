{
 "cells": [
  {
   "cell_type": "code",
   "execution_count": 3,
   "id": "d91f9e4f",
   "metadata": {},
   "outputs": [
    {
     "name": "stdout",
     "output_type": "stream",
     "text": [
      "Cantidad no permitida.\n"
     ]
    }
   ],
   "source": [
    "def calcular_costo_viaje(tipo_bus, distancia, cantidad_personas):\n",
    "    # Definir los datos de los buses\n",
    "    buses = {\n",
    "        1: {'costo_km': 2, 'capacidad_max': 20},\n",
    "        2: {'costo_km': 2.5, 'capacidad_max': 25},\n",
    "        3: {'costo_km': 3, 'capacidad_max': 30}\n",
    "    }\n",
    "\n",
    "    # Verificar si la cantidad de personas excede la capacidad máxima\n",
    "    if cantidad_personas > buses[tipo_bus]['capacidad_max']:\n",
    "        return \"Cantidad no permitida\", None\n",
    "\n",
    "    # Calcular el importe a pagar por persona\n",
    "    importe_persona = buses[tipo_bus]['costo_km'] * distancia\n",
    "\n",
    "    # Calcular el costo total del viaje\n",
    "    costo_total = importe_persona * cantidad_personas\n",
    "\n",
    "    # Retornar el resultado\n",
    "    return importe_persona, costo_total\n",
    "\n",
    "\n",
    "# Ejemplo de uso\n",
    "tipo_bus = 3\n",
    "distancia = 15\n",
    "cantidad_personas = 31\n",
    "\n",
    "resultado = calcular_costo_viaje(tipo_bus, distancia, cantidad_personas)\n",
    "\n",
    "if resultado[0] == \"Cantidad no permitida\":\n",
    "    print(\"Cantidad no permitida.\")\n",
    "else:\n",
    "    importe_persona, costo_total = resultado\n",
    "    print(\"Importe a pagar por persona:\", importe_persona)\n",
    "    print(\"Costo total del viaje:\", costo_total)"
   ]
  },
  {
   "cell_type": "code",
   "execution_count": null,
   "id": "4d2f11cd",
   "metadata": {},
   "outputs": [],
   "source": []
  }
 ],
 "metadata": {
  "kernelspec": {
   "display_name": "Python 3 (ipykernel)",
   "language": "python",
   "name": "python3"
  },
  "language_info": {
   "codemirror_mode": {
    "name": "ipython",
    "version": 3
   },
   "file_extension": ".py",
   "mimetype": "text/x-python",
   "name": "python",
   "nbconvert_exporter": "python",
   "pygments_lexer": "ipython3",
   "version": "3.9.12"
  }
 },
 "nbformat": 4,
 "nbformat_minor": 5
}
